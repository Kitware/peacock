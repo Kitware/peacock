{
 "cells": [
  {
   "cell_type": "code",
   "execution_count": null,
   "id": "d2589707",
   "metadata": {},
   "outputs": [],
   "source": [
    "from peacock_trame.app.jupyter import show"
   ]
  },
  {
   "cell_type": "code",
   "execution_count": null,
   "id": "98d42b44",
   "metadata": {},
   "outputs": [],
   "source": [
    "show(height=600)"
   ]
  }
 ],
 "metadata": {
  "kernelspec": {
   "display_name": "Python 3",
   "language": "python",
   "name": "python3"
  },
  "language_info": {
   "codemirror_mode": {
    "name": "ipython",
    "version": 3
   },
   "file_extension": ".py",
   "mimetype": "text/x-python",
   "name": "python",
   "nbconvert_exporter": "python",
   "pygments_lexer": "ipython3",
   "version": "3.9.5"
  }
 },
 "nbformat": 4,
 "nbformat_minor": 5
}
